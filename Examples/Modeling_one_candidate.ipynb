{
 "cells": [
  {
   "cell_type": "code",
   "execution_count": 1,
   "id": "57f42289",
   "metadata": {},
   "outputs": [],
   "source": [
    "import numpy as np\n",
    "import pandas as pd\n",
    "import os\n",
    "import time\n",
    "from astropy.io import fits\n",
    "\n",
    "import matplotlib.pyplot as plt\n",
    "plt.style.use('dark_background')\n",
    "from astropy.visualization import make_lupton_rgb\n",
    "\n",
    "from lenstronomy.Util import util\n",
    "from lenstronomy.Data.imaging_data import ImageData\n",
    "from lenstronomy.Data.psf import PSF\n",
    "import lenstronomy.Util.image_util as image_util\n",
    "from lenstronomy.ImSim.image_model import ImageModel"
   ]
  },
  {
   "cell_type": "code",
   "execution_count": 2,
   "id": "b68c1c10",
   "metadata": {},
   "outputs": [],
   "source": [
    "def make_plot(image, data):\n",
    "    plt.figure(figsize=(8,5))\n",
    "    print(data['COADD_OBJECT_ID'].values[0])\n",
    "    title = '{:.3f}'.format(data['EINSTEIN_RADIUS'].values[0])\n",
    "    plt.title(title)\n",
    "    rgb = make_lupton_rgb(image[2], image[1], image[0], Q=11., stretch=40.)\n",
    "    plt.imshow(rgb, aspect='equal')\n",
    "    #plt.xticks([], [])\n",
    "    #plt.yticks([], [])\n",
    "    plt.show()"
   ]
  },
  {
   "cell_type": "code",
   "execution_count": 3,
   "id": "66f0f754",
   "metadata": {},
   "outputs": [
    {
     "name": "stdout",
     "output_type": "stream",
     "text": [
      "1243683190\n"
     ]
    },
    {
     "data": {
      "image/png": "[encoded data removed]",
      "text/plain": [
       "<Figure size 576x360 with 1 Axes>"
      ]
     },
     "metadata": {},
     "output_type": "display_data"
    }
   ],
   "source": [
    "hdu_list = fits.open('Right_detectable_Jack_complete.fits')\n",
    "images = hdu_list[1].data \n",
    "data = pd.DataFrame(hdu_list[2].data)\n",
    "hdu_list.close()\n",
    "\n",
    "coadd_id = 1243683190\n",
    "ind = data[data['COADD_OBJECT_ID'] == coadd_id].index\n",
    "image = images[ind][0]\n",
    "image_real = images[ind][0][0]\n",
    "image_data = data.loc[ind]\n",
    "\n",
    "make_plot(image, image_data)"
   ]
  },
  {
   "cell_type": "code",
   "execution_count": 4,
   "id": "90e06a50",
   "metadata": {},
   "outputs": [],
   "source": [
    "# lens models\n",
    "fixed_lens = []\n",
    "kwargs_lens_init = []\n",
    "kwargs_lens_sigma = []\n",
    "kwargs_lower_lens = []\n",
    "kwargs_upper_lens = []\n",
    "\n",
    "fixed_lens.append({})  # for this example, we fix the power-law index of the lens model to be isothermal\n",
    "kwargs_lens_init.append({'theta_E': 5., 'e1': 0., 'e2': 0.,\n",
    "                         'center_x': 0., 'center_y': 0.})\n",
    "kwargs_lens_sigma.append({'theta_E': .2, 'e1': 0.05, 'e2': 0.05,\n",
    "                         'center_x': 0.05, 'center_y': 0.05})\n",
    "kwargs_lower_lens.append({'theta_E': 0.01, 'e1': -0.5, 'e2': -0.5, 'center_x': -1, 'center_y': -1})\n",
    "kwargs_upper_lens.append({'theta_E': 10., 'e1': 0.5, 'e2': 0.5, 'center_x': 1, 'center_y': 1})\n",
    "\n",
    "fixed_lens.append({'ra_0': 0, 'dec_0': 0})\n",
    "kwargs_lens_init.append({'gamma1': 0., 'gamma2': 0.0})\n",
    "kwargs_lens_sigma.append({'gamma1': 0.1, 'gamma2': 0.1})\n",
    "kwargs_lower_lens.append({'gamma1': -0.2, 'gamma2': -0.2})\n",
    "kwargs_upper_lens.append({'gamma1': 0.2, 'gamma2': 0.2})\n",
    "\n",
    "lens_params = [kwargs_lens_init, kwargs_lens_sigma, fixed_lens, kwargs_lower_lens, kwargs_upper_lens]\n",
    "\n",
    "\n",
    "fixed_source = []\n",
    "kwargs_source_init = []\n",
    "kwargs_source_sigma = []\n",
    "kwargs_lower_source = []\n",
    "kwargs_upper_source = []\n",
    "\n",
    "\n",
    "fixed_source.append({})\n",
    "kwargs_source_init.append({'R_sersic': 0.2, 'n_sersic': 1, 'e1': 0, 'e2': 0, 'center_x': 0., 'center_y': 0})\n",
    "kwargs_source_sigma.append({'n_sersic': 0.5, 'R_sersic': 0.1, 'e1': 0.05, 'e2': 0.05, 'center_x': 0.2, 'center_y': 0.2})\n",
    "kwargs_lower_source.append({'e1': -0.5, 'e2': -0.5, 'R_sersic': 0.001, 'n_sersic': .5, 'center_x': -10, 'center_y': -10})\n",
    "kwargs_upper_source.append({'e1': 0.5, 'e2': 0.5, 'R_sersic': 10, 'n_sersic': 5., 'center_x': 10, 'center_y': 10})\n",
    "\n",
    "source_params = [kwargs_source_init, kwargs_source_sigma, fixed_source, kwargs_lower_source, kwargs_upper_source]\n",
    "\n",
    "\n",
    "fixed_lens_light = []\n",
    "kwargs_lens_light_init = []\n",
    "kwargs_lens_light_sigma = []\n",
    "kwargs_lower_lens_light = []\n",
    "kwargs_upper_lens_light = []\n",
    "\n",
    "\n",
    "fixed_lens_light.append({})\n",
    "kwargs_lens_light_init.append({'R_sersic': 0.5, 'n_sersic': 2, 'e1': 0, 'e2': 0, 'center_x': 0., 'center_y': 0})\n",
    "kwargs_lens_light_sigma.append({'n_sersic': 1, 'R_sersic': 0.3, 'e1': 0.05, 'e2': 0.05, 'center_x': 0.1, 'center_y': 0.1})\n",
    "kwargs_lower_lens_light.append({'e1': -0.5, 'e2': -0.5, 'R_sersic': 0.001, 'n_sersic': .5, 'center_x': -10, 'center_y': -10})\n",
    "kwargs_upper_lens_light.append({'e1': 0.5, 'e2': 0.5, 'R_sersic': 10, 'n_sersic': 5., 'center_x': 10, 'center_y': 10})\n",
    "\n",
    "lens_light_params = [kwargs_lens_light_init, kwargs_lens_light_sigma, fixed_lens_light, kwargs_lower_lens_light, kwargs_upper_lens_light]\n",
    "\n",
    "kwargs_params = {'lens_model': lens_params,\n",
    "                'source_model': source_params,\n",
    "                'lens_light_model': lens_light_params}"
   ]
  },
  {
   "cell_type": "code",
   "execution_count": 5,
   "id": "6e16c2b6",
   "metadata": {},
   "outputs": [],
   "source": [
    "# data specifics\n",
    "background_rms = 7.  #  background noise per pixel 7.\n",
    "exp_time = 90.  #  exposure time (arbitrary units, flux per pixel is in units #photons/exp_time unit)\n",
    "numPix = 45  #  cutout pixel size per axis\n",
    "deltaPix = 0.2637  #  pixel size in arcsec (area per pixel = deltaPix**2)\n",
    "fwhm = image_data['FWHM_WMEAN_G'].values[0]  # full width at half maximum of PSF\n",
    "psf_type = 'GAUSSIAN'  # 'GAUSSIAN', 'PIXEL', 'NONE'\n",
    "\n",
    "# generate the coordinate grid and image properties (we only read out the relevant lines we need)\n",
    "_, _, ra_at_xy_0, dec_at_xy_0, _, _, Mpix2coord, _ = util.make_grid_with_coordtransform(numPix=numPix, deltapix=deltaPix, center_ra=0, center_dec=0, subgrid_res=1, inverse=False)\n",
    "\n",
    "kwargs_data = {'background_rms': background_rms,  # rms of background noise\n",
    "               'exposure_time': exp_time,  # exposure time (or a map per pixel)\n",
    "               'ra_at_xy_0': ra_at_xy_0,  # RA at (0,0) pixel\n",
    "               'dec_at_xy_0': dec_at_xy_0,  # DEC at (0,0) pixel \n",
    "               'transform_pix2angle': Mpix2coord,  # matrix to translate shift in pixel in shift in relative RA/DEC (2x2 matrix). Make sure it's units are arcseconds or the angular units you want to model.\n",
    "               'image_data': np.zeros((numPix, numPix))  # 2d data vector, here initialized with zeros as place holders that get's overwritten once a simulated image with noise is created.\n",
    "              }\n",
    "\n",
    "kwargs_data['image_data'] = image_real\n",
    "\n",
    "kwargs_psf = {'psf_type': 'GAUSSIAN', 'fwhm': fwhm, 'pixel_size': deltaPix, 'truncation': 3}\n",
    "\n",
    "\n",
    "kwargs_numerics = {'supersampling_factor': 1, 'supersampling_convolution': False}"
   ]
  },
  {
   "cell_type": "code",
   "execution_count": 6,
   "id": "8db1d851",
   "metadata": {},
   "outputs": [],
   "source": [
    "lens_model_list = ['SIE', 'SHEAR']\n",
    "\n",
    "source_model_list = ['SERSIC_ELLIPSE']\n",
    "\n",
    "lens_light_model_list = ['SERSIC_ELLIPSE']"
   ]
  },
  {
   "cell_type": "code",
   "execution_count": 7,
   "id": "0ba21a39",
   "metadata": {},
   "outputs": [
    {
     "name": "stdout",
     "output_type": "stream",
     "text": [
      "Computing the PSO ...\n",
      "10\n",
      "20\n",
      "30\n",
      "40\n",
      "50\n",
      "60\n",
      "70\n",
      "80\n",
      "90\n",
      "100\n",
      "110\n",
      "120\n",
      "130\n",
      "140\n",
      "150\n",
      "160\n",
      "170\n",
      "180\n",
      "190\n",
      "200\n",
      "Max iteration reached! Stopping.\n",
      "-1.9951061237972292 reduced X^2 of best position\n",
      "-1999.0963360448236 logL\n",
      "2004 effective number of data points\n",
      "[{'theta_E': 4.042404213493665, 'e1': -0.10913097157478192, 'e2': -0.06008001101181021, 'center_x': -0.19648306740414764, 'center_y': 0.13121722565280672}, {'gamma1': 0.09261539973528776, 'gamma2': 0.07536087942405416, 'ra_0': 0, 'dec_0': 0}] lens result\n",
      "[{'amp': 1, 'R_sersic': 0.5690424127523025, 'n_sersic': 3.378034826792657, 'e1': 0.3209915312628989, 'e2': 0.4984288637026804, 'center_x': 0.10562349306417756, 'center_y': -0.2216313109241}] source result\n",
      "[{'amp': 1, 'R_sersic': 5.141054590987347, 'n_sersic': 0.5001484062289901, 'e1': 0.19655974584105856, 'e2': 0.03382302284874822, 'center_x': 1.1132702727744452, 'center_y': 0.03227698756272214}] lens light result\n",
      "[] point source result\n",
      "{} special param result\n",
      "41.82266902923584 time used for  PSO\n",
      "===================\n"
     ]
    },
    {
     "name": "stderr",
     "output_type": "stream",
     "text": [
      "100%|███████████████████████████████████████████████████████████████████████████████████████████| 800/800 [01:00<00:00, 13.26it/s]"
     ]
    },
    {
     "name": "stdout",
     "output_type": "stream",
     "text": [
      "Computing the MCMC...\n",
      "Number of walkers =  190\n",
      "Burn-in iterations:  200\n",
      "Sampling iterations (in current run): 800\n",
      "60.42886018753052 time taken for MCMC sampling\n"
     ]
    },
    {
     "name": "stderr",
     "output_type": "stream",
     "text": [
      "\n"
     ]
    }
   ],
   "source": [
    "kwargs_likelihood = {'source_marg': False}\n",
    "kwargs_model = {'lens_model_list': lens_model_list, 'source_light_model_list': source_model_list, 'lens_light_model_list': lens_light_model_list}\n",
    "\n",
    "multi_band_list = [[kwargs_data, kwargs_psf, kwargs_numerics]]\n",
    "# if you have multiple  bands to be modeled simultaneously, you can append them to the mutli_band_list\n",
    "kwargs_data_joint = {'multi_band_list': multi_band_list, \n",
    "                     'multi_band_type': 'multi-linear'  # 'multi-linear': every imaging band has independent solutions of the surface brightness, 'joint-linear': there is one joint solution of the linear coefficients demanded across the bands.\n",
    "                    }\n",
    "kwargs_constraints = {}\n",
    "\n",
    "from lenstronomy.Workflow.fitting_sequence import FittingSequence\n",
    "fitting_seq = FittingSequence(kwargs_data_joint, kwargs_model, kwargs_constraints, kwargs_likelihood, kwargs_params)\n",
    "\n",
    "fitting_kwargs_list = [['PSO', {'sigma_scale': 1., 'n_particles': 200, 'n_iterations': 200}],\n",
    "                       ['MCMC', {'n_burn': 200, 'n_run': 600, 'walkerRatio': 10, 'sigma_scale': .1}]\n",
    "        ]\n",
    "\n",
    "chain_list = fitting_seq.fit_sequence(fitting_kwargs_list)\n",
    "kwargs_result = fitting_seq.best_fit()"
   ]
  },
  {
   "cell_type": "code",
   "execution_count": 8,
   "id": "38535112",
   "metadata": {},
   "outputs": [
    {
     "name": "stdout",
     "output_type": "stream",
     "text": [
      "{'kwargs_lens': [{'theta_E': 3.995639086253875, 'e1': -0.08138692322002351, 'e2': -0.05326353521040945, 'center_x': -0.008310059475907156, 'center_y': 0.11794293380486282}, {'gamma1': 0.06227195591278843, 'gamma2': 0.03981260031676047, 'ra_0': 0, 'dec_0': 0}], 'kwargs_source': [{'amp': 1, 'R_sersic': 0.6207977678481013, 'n_sersic': 3.3418648619795897, 'e1': 0.34871340258260697, 'e2': 0.46326923909723394, 'center_x': 0.34877353862089305, 'center_y': -0.07825498591784465}], 'kwargs_lens_light': [{'amp': 1, 'R_sersic': 5.66458779219381, 'n_sersic': 0.6514540006438614, 'e1': 0.19608081217562623, 'e2': 0.003059609037504617, 'center_x': 1.2092990682754692, 'center_y': 0.04587715884074026}], 'kwargs_ps': [], 'kwargs_special': {}, 'kwargs_extinction': []}\n",
      "4.34492058 0.68891632\n",
      "DES0208-2706\n"
     ]
    }
   ],
   "source": [
    "print(kwargs_result)\n",
    "print(image_data['EINSTEIN_RADIUS'].values[0], image_data['EINSTEIN_RADIUS_ERR'].values[0])\n",
    "print(image_data['TILENAME'].values[0])"
   ]
  }
 ],
 "metadata": {
  "kernelspec": {
   "display_name": "Python 3 (ipykernel)",
   "language": "python",
   "name": "python3"
  },
  "language_info": {
   "codemirror_mode": {
    "name": "ipython",
    "version": 3
   },
   "file_extension": ".py",
   "mimetype": "text/x-python",
   "name": "python",
   "nbconvert_exporter": "python",
   "pygments_lexer": "ipython3",
   "version": "3.7.13"
  }
 },
 "nbformat": 4,
 "nbformat_minor": 5
}
